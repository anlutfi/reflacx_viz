{
 "cells": [
  {
   "cell_type": "markdown",
   "metadata": {},
   "source": [
    "# Get All Necessary Data\n",
    "\n",
    "## Downloads\n",
    "\n",
    "### REFLACX"
   ]
  },
  {
   "cell_type": "code",
   "execution_count": 1,
   "metadata": {},
   "outputs": [],
   "source": [
    "import os"
   ]
  },
  {
   "cell_type": "code",
   "execution_count": null,
   "metadata": {},
   "outputs": [],
   "source": [
    "reflacx_dir = \"../data/reflacx/main_data\""
   ]
  },
  {
   "cell_type": "code",
   "execution_count": null,
   "metadata": {},
   "outputs": [],
   "source": [
    "os.system(\"wget -r -N -c -np -P {} --user anlutfi --ask-password https://physionet.org/files/reflacx-xray-localization/1.0.0/\".format(reflacx_dir))"
   ]
  },
  {
   "cell_type": "markdown",
   "metadata": {},
   "source": [
    "### MIMIC-CXR subset defined by REFLACX"
   ]
  },
  {
   "cell_type": "code",
   "execution_count": null,
   "metadata": {},
   "outputs": [],
   "source": [
    "mimic_dir = \"../data/mimic/reflacx_imgs\""
   ]
  },
  {
   "cell_type": "markdown",
   "metadata": {},
   "source": [
    "Load REFLACX metadata"
   ]
  },
  {
   "cell_type": "code",
   "execution_count": null,
   "metadata": {},
   "outputs": [],
   "source": [
    "from tools import csv2dictlist, get_reflacx_metadata"
   ]
  },
  {
   "cell_type": "code",
   "execution_count": null,
   "metadata": {},
   "outputs": [],
   "source": [
    "metadata = get_reflacx_metadata(reflacx_dir)"
   ]
  },
  {
   "cell_type": "markdown",
   "metadata": {},
   "source": [
    "Downloading all MIMIC-CXR images referenced by REFLACX\n",
    "\n",
    "For this stage, it's only necessary to get images for which eye tracking data is present"
   ]
  },
  {
   "cell_type": "code",
   "execution_count": null,
   "metadata": {},
   "outputs": [],
   "source": [
    "physionet_user = \"anlutfi\"\n",
    "physionet_passwd = \"\" #TODO leave empty"
   ]
  },
  {
   "cell_type": "code",
   "execution_count": null,
   "metadata": {},
   "outputs": [],
   "source": [
    "images = list(set([datapoint['image'] for datapoint in metadata if datapoint['eye_tracking_data_discarded'] not in [\"true\", \"True\", \"TRUE\"]]))"
   ]
  },
  {
   "cell_type": "markdown",
   "metadata": {},
   "source": [
    "Generate .sh file for downloading images, as it should not be done inside this notebook"
   ]
  },
  {
   "cell_type": "code",
   "execution_count": null,
   "metadata": {},
   "outputs": [],
   "source": [
    "wget = \"\"\n",
    "for image in images:\n",
    "    wget += 'wget -r -N -c -np -O {} --user {} --password \\\"{}\\\" {}\\n'.format(os.sep.join([mimic_dir,\n",
    "                                                                                           image.split('/')[-1]]),\n",
    "                                                                                           physionet_user,\n",
    "                                                                                           physionet_passwd,\n",
    "                                                                                           image)\n",
    "\n",
    "with open('getimages.sh', 'w') as f:\n",
    "    f.write(wget)"
   ]
  },
  {
   "cell_type": "markdown",
   "metadata": {},
   "source": [
    "## Generate REFLACX Heatmaps"
   ]
  },
  {
   "cell_type": "code",
   "execution_count": null,
   "metadata": {},
   "outputs": [],
   "source": [
    "from generate_heatmaps import create_heatmaps"
   ]
  },
  {
   "cell_type": "markdown",
   "metadata": {},
   "source": [
    "WARNING: Next cell took more than 24 hours to run in my computer."
   ]
  },
  {
   "cell_type": "code",
   "execution_count": null,
   "metadata": {},
   "outputs": [],
   "source": [
    "create_heatmaps(reflacx_dir,\n",
    "                '/metadata_phase_1.csv',\n",
    "                folder_name='../data/reflacx/heatmaps_phase_1',\n",
    "                phase =  1)\n",
    "create_heatmaps(reflacx_dir,\n",
    "                '/metadata_phase_2.csv',\n",
    "                folder_name='../data/reflacx/heatmaps_phase_2',\n",
    "                phase =  2)\n",
    "create_heatmaps(reflacx_dir,\n",
    "                '/metadata_phase_3.csv',\n",
    "                folder_name='../data/reflacx/heatmaps_phase_3',\n",
    "                phase =  3)\n",
    "                "
   ]
  }
 ],
 "metadata": {
  "kernelspec": {
   "display_name": "data_viz",
   "language": "python",
   "name": "python3"
  },
  "language_info": {
   "codemirror_mode": {
    "name": "ipython",
    "version": 3
   },
   "file_extension": ".py",
   "mimetype": "text/x-python",
   "name": "python",
   "nbconvert_exporter": "python",
   "pygments_lexer": "ipython3",
   "version": "3.8.10"
  },
  "orig_nbformat": 4
 },
 "nbformat": 4,
 "nbformat_minor": 2
}
